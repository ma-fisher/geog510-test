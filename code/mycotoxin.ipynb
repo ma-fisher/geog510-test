import numpy as np
import matplotlib.pyplot as plt

# Sample mycotoxin concentration data (in ppb) for different mycotoxins
mycotoxins = {
    "Aflatoxins": [5, 7, 6, 8, 200, 9, 10, 6, 5, 300, 7, 8, 9],
    "Ochratoxin A": [2, 3, 4, 2, 50, 3, 2, 3, 60, 4, 2],
    "Fumonisins": [500, 700, 800, 2000, 900, 1800, 700, 600, 2100],
    "Zearalenone": [30, 40, 35, 500, 45, 100, 50, 60],
    "Deoxynivalenol": [800, 900, 950, 1000, 1500, 1200, 1100, 3000]
}

# Function to detect outliers using z-score
def detect_outliers(data):
    mean = np.mean(data)
    std_dev = np.std(data)
    z_scores = [(x - mean) / std_dev for x in data]
    outliers = [data[i] for i in range(len(z_scores)) if abs(z_scores[i]) > 2]
    return outliers, mean

# Plot each mycotoxin contamination levels
fig, axs = plt.subplots(len(mycotoxins), 1, figsize=(8, 15))

for i, (name, data) in enumerate(mycotoxins.items()):
    outliers, mean = detect_outliers(data)
    ticks = range(len(data))
    
    axs[i].plot(ticks, data, marker='o', linestyle='none', label='Data Points')
    axs[i].axhline(mean, color='r', linestyle='dashed', linewidth=1, label='Mean')
    axs[i].set_title(name)
    axs[i].legend()

plt.tight_layout()
plt.show()

# Print detected outliers for each mycotoxin type
for name, data in mycotoxins.items():
    outliers, _ = detect_outliers(data)
    print(f"{name} - Detected outliers: {outliers}")

